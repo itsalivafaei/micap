{
 "cells": [
  {
   "metadata": {
    "ExecuteTime": {
     "end_time": "2025-05-24T18:40:44.696704Z",
     "start_time": "2025-05-24T18:40:41.199771Z"
    }
   },
   "cell_type": "code",
   "source": [
    "# Cell 1: Setup\n",
    "\"\"\"\n",
    "Test notebook for data ingestion\n",
    "Run this to verify your setup is working correctly\n",
    "\"\"\"\n",
    "import sys\n",
    "from pathlib import Path\n",
    "sys.path.append(str(Path.cwd().parent))\n",
    "\n",
    "# Cell 2: Test Spark Setup\n",
    "from config.spark_config import create_spark_session\n",
    "spark = create_spark_session(\"TestIngestion\")\n",
    "print(f\"Spark version: {spark.version}\")\n",
    "print(f\"Spark UI available at: http://localhost:4040\")\n",
    "\n",
    "# Cell 3: Test Data Loading\n",
    "from src.spark.data_ingestion import DataIngestion\n",
    "\n",
    "class DataIngestion:\n",
    "    def __init__(self, spark):\n",
    "        self.spark = spark\n",
    "\n",
    "\n",
    "    def load_sentiment140_data(self, path):\n",
    "        \"\"\"\n",
    "        Load the Sentiment140 dataset from the specified CSV file.\n",
    "        Parameters:\n",
    "        path (str): Path to the CSV file.\n",
    "                Returns:\n",
    "        DataFrame: Spark DataFrame containing the loaded data.\n",
    "        \"\"\"\n",
    "        df = self.spark.read.csv(\n",
    "            path,\n",
    "            header=False,\n",
    "            inferSchema=True,\n",
    "            encoding='iso-8859-1',\n",
    "            multiLine=True,\n",
    "            escape='\"'\n",
    "        )\n",
    "        # Further processing here\n",
    "        return df\n",
    "\n",
    "ingestion = DataIngestion(spark)\n",
    "\n",
    "# Load sample data\n",
    "data_path = \"../data/raw/training.1600000.processed.noemoticon.csv\"\n",
    "df = ingestion.load_sentiment140_data(data_path)\n",
    "print(f\"Loaded {df.count()} records\")\n",
    "\n",
    "# Cell 4: Show Data Schema\n",
    "df.printSchema()\n",
    "\n",
    "# Cell 5: Sample Data\n",
    "# df.select(\"text\", \"sentiment\", \"timestamp\").show(10, truncate=False)\n",
    "df.select(df[\"_c5\"].alias(\"text\"), df[\"_c0\"].alias(\"sentiment\"), df[\"_c2\"].alias(\"timestamp\")).show(10, truncate=False)\n",
    "\n",
    "# Cell 6: Sentiment Distribution\n",
    "df.groupBy(\"_c4\").count().show()\n",
    "\n",
    "# Cell 7: Time Distribution\n",
    "# df.groupBy(\"year\", \"month\").count().orderBy(\"year\", \"month\").show()"
   ],
   "id": "43cb87f3b8a14d31",
   "outputs": [
    {
     "name": "stderr",
     "output_type": "stream",
     "text": [
      "INFO:config.spark_config:Creating Spark session with driver memory: 12g\n",
      "INFO:config.spark_config:Spark session created successfully\n",
      "INFO:config.spark_config:Spark version: 3.3.4\n",
      "INFO:config.spark_config:Driver memory: 12g\n",
      "INFO:config.spark_config:Executor memory: 8g\n"
     ]
    },
    {
     "name": "stdout",
     "output_type": "stream",
     "text": [
      "Spark version: 3.3.4\n",
      "Spark UI available at: http://localhost:4040\n"
     ]
    },
    {
     "name": "stderr",
     "output_type": "stream",
     "text": [
      "                                                                                \r"
     ]
    },
    {
     "name": "stdout",
     "output_type": "stream",
     "text": [
      "Loaded 1600000 records\n",
      "root\n",
      " |-- _c0: integer (nullable = true)\n",
      " |-- _c1: long (nullable = true)\n",
      " |-- _c2: string (nullable = true)\n",
      " |-- _c3: string (nullable = true)\n",
      " |-- _c4: string (nullable = true)\n",
      " |-- _c5: string (nullable = true)\n",
      "\n",
      "+-------------------------------------------------------------------------------------------------------------------+---------------+----------------------------+\n",
      "|text                                                                                                               |sentiment      |timestamp                   |\n",
      "+-------------------------------------------------------------------------------------------------------------------+---------------+----------------------------+\n",
      "|@switchfoot http://twitpic.com/2y1zl - Awww, that's a bummer.  You shoulda got David Carr of Third Day to do it. ;D|_TheSpecialOne_|Mon Apr 06 22:19:45 PDT 2009|\n",
      "|is upset that he can't update his Facebook by texting it... and might cry as a result  School today also. Blah!    |scotthamilton  |Mon Apr 06 22:19:49 PDT 2009|\n",
      "|@Kenichan I dived many times for the ball. Managed to save 50%  The rest go out of bounds                          |mattycus       |Mon Apr 06 22:19:53 PDT 2009|\n",
      "|my whole body feels itchy and like its on fire                                                                     |ElleCTF        |Mon Apr 06 22:19:57 PDT 2009|\n",
      "|@nationwideclass no, it's not behaving at all. i'm mad. why am i here? because I can't see you all over there.     |Karoli         |Mon Apr 06 22:19:57 PDT 2009|\n",
      "|@Kwesidei not the whole crew                                                                                       |joy_wolf       |Mon Apr 06 22:20:00 PDT 2009|\n",
      "|Need a hug                                                                                                         |mybirch        |Mon Apr 06 22:20:03 PDT 2009|\n",
      "|@LOLTrish hey  long time no see! Yes.. Rains a bit ,only a bit  LOL , I'm fine thanks , how's you ?                |coZZ           |Mon Apr 06 22:20:03 PDT 2009|\n",
      "|@Tatiana_K nope they didn't have it                                                                                |2Hood4Hollywood|Mon Apr 06 22:20:05 PDT 2009|\n",
      "|@twittera que me muera ?                                                                                           |mimismo        |Mon Apr 06 22:20:09 PDT 2009|\n",
      "+-------------------------------------------------------------------------------------------------------------------+---------------+----------------------------+\n",
      "only showing top 10 rows\n",
      "\n"
     ]
    },
    {
     "name": "stderr",
     "output_type": "stream",
     "text": [
      "[Stage 15:>                                                         (0 + 1) / 1]\r"
     ]
    },
    {
     "name": "stdout",
     "output_type": "stream",
     "text": [
      "+---------------+-----+\n",
      "|            _c4|count|\n",
      "+---------------+-----+\n",
      "|     megan_rice|   15|\n",
      "|     LeeseEllen|    2|\n",
      "|      dEnNy_333|    1|\n",
      "|        lisha_e|    2|\n",
      "|        Daniiej|    3|\n",
      "|       cmsebest|    1|\n",
      "|         MeghTW|    1|\n",
      "|   candicebunny|    1|\n",
      "|stranger_danger|   14|\n",
      "|  divingkid2001|    1|\n",
      "| BIGBANGkrystal|    2|\n",
      "|   annelisebaer|    1|\n",
      "|    Lilli_Allen|    1|\n",
      "| anthonypending|    1|\n",
      "|        caaaami|    1|\n",
      "|      ffmusicdj|    4|\n",
      "|  prasannathani|   16|\n",
      "|          Colsi|    1|\n",
      "|       J_Moneyy|    7|\n",
      "|        SoEdith|    5|\n",
      "+---------------+-----+\n",
      "only showing top 20 rows\n",
      "\n"
     ]
    },
    {
     "name": "stderr",
     "output_type": "stream",
     "text": [
      "                                                                                \r"
     ]
    }
   ],
   "execution_count": 2
  }
 ],
 "metadata": {
  "kernelspec": {
   "display_name": "Python 3",
   "language": "python",
   "name": "python3"
  },
  "language_info": {
   "codemirror_mode": {
    "name": "ipython",
    "version": 2
   },
   "file_extension": ".py",
   "mimetype": "text/x-python",
   "name": "python",
   "nbconvert_exporter": "python",
   "pygments_lexer": "ipython2",
   "version": "2.7.6"
  }
 },
 "nbformat": 4,
 "nbformat_minor": 5
}
